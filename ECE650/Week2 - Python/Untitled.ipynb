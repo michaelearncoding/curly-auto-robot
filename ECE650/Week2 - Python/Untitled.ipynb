{
 "cells": [
  {
   "cell_type": "code",
   "execution_count": 1,
   "id": "2325a0a6-57e9-4680-95ee-44d4183f6bfe",
   "metadata": {},
   "outputs": [
    {
     "name": "stderr",
     "output_type": "stream",
     "text": [
      "E\n",
      "======================================================================\n",
      "ERROR: /Users/qingdamai/Library/Jupyter/runtime/kernel-dcbb259a-841a-4032-b38a-b9131c771c54 (unittest.loader._FailedTest./Users/qingdamai/Library/Jupyter/runtime/kernel-dcbb259a-841a-4032-b38a-b9131c771c54)\n",
      "----------------------------------------------------------------------\n",
      "AttributeError: module '__main__' has no attribute '/Users/qingdamai/Library/Jupyter/runtime/kernel-dcbb259a-841a-4032-b38a-b9131c771c54'\n",
      "\n",
      "----------------------------------------------------------------------\n",
      "Ran 1 test in 0.001s\n",
      "\n",
      "FAILED (errors=1)\n"
     ]
    },
    {
     "ename": "SystemExit",
     "evalue": "1",
     "output_type": "error",
     "traceback": [
      "An exception has occurred, use %tb to see the full traceback.\n",
      "\u001b[0;31mSystemExit\u001b[0m\u001b[0;31m:\u001b[0m 1\n"
     ]
    },
    {
     "name": "stderr",
     "output_type": "stream",
     "text": [
      "/opt/anaconda3/lib/python3.12/site-packages/IPython/core/interactiveshell.py:3585: UserWarning: To exit: use 'exit', 'quit', or Ctrl-D.\n",
      "  warn(\"To exit: use 'exit', 'quit', or Ctrl-D.\", stacklevel=1)\n"
     ]
    }
   ],
   "source": [
    "import unittest\n",
    "\n",
    "class TestStringMethods(unittest.TestCase):\n",
    "\n",
    "\tdef test_upper(self):\n",
    "\t\tself.assertEqual('foo'.upper(), 'FOO')\n",
    "\n",
    "\tdef test_isupper(self):\n",
    "\t\tself.assertTrue('FOO'.isupper())\n",
    "\n",
    "\n",
    "if __name__ == '__main__':\n",
    "\tunittest.main()"
   ]
  },
  {
   "cell_type": "code",
   "execution_count": null,
   "id": "585ab6e3-69d5-4796-890b-4b2695cc760e",
   "metadata": {},
   "outputs": [],
   "source": []
  }
 ],
 "metadata": {
  "kernelspec": {
   "display_name": "Python 3 (ipykernel)",
   "language": "python",
   "name": "python3"
  },
  "language_info": {
   "codemirror_mode": {
    "name": "ipython",
    "version": 3
   },
   "file_extension": ".py",
   "mimetype": "text/x-python",
   "name": "python",
   "nbconvert_exporter": "python",
   "pygments_lexer": "ipython3",
   "version": "3.12.7"
  }
 },
 "nbformat": 4,
 "nbformat_minor": 5
}
